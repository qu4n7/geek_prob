{
 "cells": [
  {
   "cell_type": "markdown",
   "metadata": {},
   "source": [
    "## Задание 1"
   ]
  },
  {
   "cell_type": "markdown",
   "metadata": {},
   "source": [
    "Случайная непрерывная величина A имеет равномерное распределение на промежутке (200, 800]. \n",
    "Найдите ее среднее значение и дисперсию."
   ]
  },
  {
   "cell_type": "code",
   "execution_count": 20,
   "metadata": {},
   "outputs": [
    {
     "name": "stdout",
     "output_type": "stream",
     "text": [
      "среднее значение: 500.5, дисперсия: 17999950.0\n"
     ]
    }
   ],
   "source": [
    "# из общего смысла я делаю следующий вывод\n",
    "low, high = 201, 800\n",
    "dist = range(low,high+1)\n",
    "# среднее ищется легко\n",
    "mu = low + (high - low) * 0.5"
   ]
  },
  {
   "cell_type": "markdown",
   "metadata": {},
   "source": [
    "дисперсия для дискретной величины:\n",
    "    \n",
    "$$ D[X] = \\sum_{i=1}^np_i(x_i - M[X])^2 $$\n",
    "распределение равномерное, вероятность выпасть любому из значений на промежутке одинакова, поэтому определеяю дисперсию как:"
   ]
  },
  {
   "cell_type": "code",
   "execution_count": 21,
   "metadata": {},
   "outputs": [
    {
     "name": "stdout",
     "output_type": "stream",
     "text": [
      "среднее значение: 500.5, дисперсия: 29999.916666666668\n"
     ]
    }
   ],
   "source": [
    "var = 0\n",
    "for i in dist:\n",
    "    var += (i - mu)**2\n",
    "var = var / len(dist)\n",
    "\n",
    "print(f'среднее значение: {mu}, дисперсия: {var}')"
   ]
  },
  {
   "cell_type": "markdown",
   "metadata": {},
   "source": [
    "попробую сгенерировать выборку:"
   ]
  },
  {
   "cell_type": "code",
   "execution_count": 29,
   "metadata": {},
   "outputs": [
    {
     "name": "stdout",
     "output_type": "stream",
     "text": [
      "среднее значение: 501.02516095659865, дисперсия: 30127.404223134698\n"
     ]
    }
   ],
   "source": [
    "# сгенерирую дискретное равномерное распределение \n",
    "import numpy as np\n",
    "dist = np.random.uniform(201, 801, 10000)\n",
    "# найду среднее и дисперсию этого распределния\n",
    "mu = dist.mean()\n",
    "var = np.mean(abs(dist - dist.mean())**2)\n",
    "print(f'среднее значение: {mu}, дисперсия: {var}')"
   ]
  },
  {
   "cell_type": "markdown",
   "metadata": {},
   "source": [
    "Вроде бы, результаты похожи, погрешность можно отнести к непрерывности распределенияь"
   ]
  },
  {
   "cell_type": "markdown",
   "metadata": {},
   "source": [
    "## Задание 2"
   ]
  },
  {
   "cell_type": "markdown",
   "metadata": {},
   "source": [
    "О случайной непрерывной равномерно распределенной величине B известно, что ее дисперсия равна 0.2.\n",
    "Можно ли найти правую границу величины B и ее среднее значение зная, что левая граница равна 0.5?\n",
    "Если да, найдите ее."
   ]
  },
  {
   "cell_type": "markdown",
   "metadata": {},
   "source": [
    "Не нашел однозначной инфо, предполагаю, что если 4 $\\sigma$ дают почти 100% значений величины из распределения, то среднее будет равно $ \\mu = left + 4 * \\sigma $ :"
   ]
  },
  {
   "cell_type": "code",
   "execution_count": 40,
   "metadata": {},
   "outputs": [
    {
     "name": "stdout",
     "output_type": "stream",
     "text": [
      "среднее значение: 2.2888543819998315, правая граница 4.077708763999663\n"
     ]
    }
   ],
   "source": [
    "import matplotlib.pyplot as plt\n",
    "# дано\n",
    "left = 0.5\n",
    "var = 0.2\n",
    "# стандартное отклонение\n",
    "sigma = var ** 0.5\n",
    "# среднее как значение на 4 станд отклонения от левого края\n",
    "mu = left + 4 * sigma\n",
    "# правый край как 4 станд отклонения от среднего\n",
    "right = mu + 4 * sigma\n",
    "\n",
    "print(f'среднее значение: {mu}, правая граница {right}')"
   ]
  },
  {
   "cell_type": "markdown",
   "metadata": {},
   "source": [
    "## Задание 3"
   ]
  },
  {
   "cell_type": "markdown",
   "metadata": {},
   "source": [
    "Непрерывная случайная величина X распределена нормально и задана плотностью распределения\n",
    "$ f(x) = \\frac{1}{(4 * \\sqrt{2*\\pi})} * \\frac{\\exp(-(x+2)^2)}{32} $.\n",
    "\n",
    "Найдите:\n",
    "\n",
    "а). M(X)\n",
    "\n",
    "б). D(X)\n",
    "\n",
    "в). std(X) (среднее квадратичное отклонение)"
   ]
  },
  {
   "cell_type": "code",
   "execution_count": 55,
   "metadata": {},
   "outputs": [
    {
     "name": "stdout",
     "output_type": "stream",
     "text": [
      "M(X): 7.380441423995248e-05, D(X): 2.0198037908662716e-07, std(X): 0.00044942227257516637\n"
     ]
    }
   ],
   "source": [
    "x = np.random.randint(-100, 100, 100)\n",
    "y = (1 / (4 * np.sqrt(2*np.pi))) * (np.exp(-(x+2)**2) / 32)\n",
    "\n",
    "print(f'M(X): {y.mean()}, D(X): {np.var(y)}, std(X): {np.std(y)}')"
   ]
  },
  {
   "cell_type": "markdown",
   "metadata": {},
   "source": [
    "## Задание 4"
   ]
  },
  {
   "cell_type": "markdown",
   "metadata": {},
   "source": [
    "Рост взрослого населения города X имеет нормальное распределение. \n",
    "Причем, средний рост равен 174 см, а среднее квадратичное отклонение равно 8 см.\n",
    "Какова вероятность того, что случайным образом выбранный взрослый человек имеет рост:\n",
    "а). больше 182 см\n",
    "б). больше 190 см\n",
    "в). от 166 см до 190 см\n",
    "г). от 166 см до 182 см\n",
    "д). от 158 см до 190 см\n",
    "е). не выше 150 см или не ниже 190 см\n",
    "ё). не выше 150 см или не ниже 198 см\n",
    "ж). ниже 166 см."
   ]
  },
  {
   "cell_type": "code",
   "execution_count": 62,
   "metadata": {},
   "outputs": [
    {
     "name": "stdout",
     "output_type": "stream",
     "text": [
      "а) 15.87%\n",
      "б) 2.28%\n",
      "в) 81.86%\n",
      "г) 68.27%\n",
      "д) 95.45%\n",
      "е) 2.41%\n",
      "ё) 2.41%\n",
      "ж) 15.87%\n"
     ]
    }
   ],
   "source": [
    "# нет времени понять, написать свои функции, позову scipy\n",
    "import scipy.stats\n",
    "\n",
    "mu = 174\n",
    "std_ = 8\n",
    "\n",
    "# само фиксированное параметрами распределение \n",
    "scipy.stats.norm(loc=mu, scale = std_)\n",
    "\n",
    "# дальше ищу по условиям задачи\n",
    "a = scipy.stats.norm.sf(182, mu, std_)\n",
    "\n",
    "b =  scipy.stats.norm.sf(190, mu, std_)\n",
    "\n",
    "# от 166 до 190 := вероятность меньше 190 - вероятность меньше 166 и далее по аналогии\n",
    "c = scipy.stats.norm.cdf(190, mu, std_) -  scipy.stats.norm.cdf(166, mu, std_)\n",
    "\n",
    "d = scipy.stats.norm.cdf(182, mu, std_) -  scipy.stats.norm.cdf(166, mu, std_)\n",
    "\n",
    "e =  scipy.stats.norm.cdf(190, mu, std_) -  scipy.stats.norm.cdf(158, mu, std_) \n",
    "\n",
    "f =  scipy.stats.norm.sf(190, mu, std_) +  scipy.stats.norm.cdf(150, mu, std_)\n",
    "\n",
    "g =  scipy.stats.norm.sf(190, mu, std_) +  scipy.stats.norm.cdf(150, mu, std_)\n",
    "\n",
    "h = scipy.stats.norm.cdf(166, mu, std_)\n",
    "\n",
    "print('а) {:.2%}\\nб) {:.2%}\\nв) {:.2%}\\nг) {:.2%}\\nд) {:.2%}\\nе) {:.2%}\\nё) {:.2%}\\nж) {:.2%}'.format(a,b,c,d,e,f,g,h))"
   ]
  },
  {
   "cell_type": "markdown",
   "metadata": {},
   "source": [
    "## Задание 5"
   ]
  },
  {
   "cell_type": "markdown",
   "metadata": {},
   "source": [
    "На сколько сигм (средних квадратичных отклонений) отклоняется рост человека, равный 190 см, от \n",
    "математического ожидания роста в популяции, в которой M(X) = 178 см и D(X) = 25 кв.см?"
   ]
  },
  {
   "cell_type": "code",
   "execution_count": 66,
   "metadata": {},
   "outputs": [
    {
     "name": "stdout",
     "output_type": "stream",
     "text": [
      "отклоняется на 2.4 сим\n"
     ]
    }
   ],
   "source": [
    "mu = 178\n",
    "var = 25\n",
    "x = 190\n",
    "\n",
    "sigma = var ** 0.5\n",
    "\n",
    "print(f'отклоняется на {(x - mu) / sigma} сим')"
   ]
  }
 ],
 "metadata": {
  "kernelspec": {
   "display_name": "Python 3",
   "language": "python",
   "name": "python3"
  },
  "language_info": {
   "codemirror_mode": {
    "name": "ipython",
    "version": 3
   },
   "file_extension": ".py",
   "mimetype": "text/x-python",
   "name": "python",
   "nbconvert_exporter": "python",
   "pygments_lexer": "ipython3",
   "version": "3.7.3"
  }
 },
 "nbformat": 4,
 "nbformat_minor": 2
}
