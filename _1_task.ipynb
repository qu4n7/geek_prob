{
 "cells": [
  {
   "cell_type": "markdown",
   "metadata": {},
   "source": [
    "1. Из колоды в 52 карты извлекаются случайным образом 4 карты. a) Найти вероятность того, что все карты – крести. б) Найти вероятность, что среди 4-х карт окажется хотя бы один туз."
   ]
  },
  {
   "cell_type": "markdown",
   "metadata": {},
   "source": [
    "а)\n",
    "Число всех карт крести равно 13, применяем формулу числа сочетаний и находим отношение \n",
    "сочетаний для 4 из 13 к сочетаниям 4 из 52"
   ]
  },
  {
   "cell_type": "code",
   "execution_count": 19,
   "metadata": {},
   "outputs": [
    {
     "name": "stdout",
     "output_type": "stream",
     "text": [
      "вероятность составляет 0.26%\n"
     ]
    }
   ],
   "source": [
    "from math import factorial\n",
    "\n",
    "def combinations(n, k):\n",
    "    return int(factorial(n) / (factorial(k) * factorial (n-k)))\n",
    "\n",
    "p = combinations(13, 4) / combinations(52, 4)\n",
    "print('вероятность составляет {:.2%}'.format(p))"
   ]
  },
  {
   "cell_type": "markdown",
   "metadata": {},
   "source": [
    "б) всего 4 туза, существует $ C_4^1 $ сочетаний 1 туза из 4. еще 3 карты, которые надо вытащить из оставшейся 51 карты, можно извлечь $ C_{51}^3 \\rightarrow$ "
   ]
  },
  {
   "cell_type": "code",
   "execution_count": 20,
   "metadata": {},
   "outputs": [
    {
     "name": "stdout",
     "output_type": "stream",
     "text": [
      "вероятность составляет 30.77%\n"
     ]
    }
   ],
   "source": [
    "p = (combinations(4, 1) * combinations(51, 3)) / combinations(52, 4)\n",
    "print('вероятность составляет {:.2%}'.format(p))"
   ]
  },
  {
   "cell_type": "markdown",
   "metadata": {},
   "source": [
    "2. На входной двери подъезда установлен кодовый замок, содержащий десять кнопок с цифрами от 0 до 9. Код содержит три цифры, которые нужно нажать одновременно. Какова вероятность того, что человек, не знающий код, откроет дверь с первой попытки?"
   ]
  },
  {
   "cell_type": "markdown",
   "metadata": {},
   "source": [
    "Вероятность равна отношению количеству попыток к всему множеству сочетаний 3 значений кнопок из 10 цифр $\\rightarrow$"
   ]
  },
  {
   "cell_type": "code",
   "execution_count": 21,
   "metadata": {},
   "outputs": [
    {
     "name": "stdout",
     "output_type": "stream",
     "text": [
      "вероятность составляет 0.83%\n",
      "1 шанс из 120 открыть дверь с первого раза\n"
     ]
    }
   ],
   "source": [
    "p = 1 / combinations(10, 3)\n",
    "print('вероятность составляет {:.2%}'.format(p))\n",
    "print(f'1 шанс из {combinations(10,3)} открыть дверь с первого раза')"
   ]
  },
  {
   "cell_type": "markdown",
   "metadata": {},
   "source": [
    "3. В ящике имеется 15 деталей, из которых 9 окрашены. Рабочий случайным образом извлекает 3 детали. Какова вероятность того, что все извлеченные детали окрашены?"
   ]
  },
  {
   "cell_type": "markdown",
   "metadata": {},
   "source": [
    "вероятность равно отношению числа исходов, благоприятствующих событию, $ C_9^3 $ к общему числу исходов $ C_{15}^3 \\rightarrow $ "
   ]
  },
  {
   "cell_type": "code",
   "execution_count": 22,
   "metadata": {},
   "outputs": [
    {
     "name": "stdout",
     "output_type": "stream",
     "text": [
      "вероятность составляет 18.46%\n"
     ]
    }
   ],
   "source": [
    "p = combinations(9, 3) / combinations(15, 3)\n",
    "print('вероятность составляет {:.2%}'.format(p))"
   ]
  },
  {
   "cell_type": "markdown",
   "metadata": {},
   "source": [
    "4. В лотерее 100 билетов. Из них 2 выигрышных. Какова вероятность того, что 2 приобретенных билета окажутся выигрышными?"
   ]
  },
  {
   "cell_type": "markdown",
   "metadata": {},
   "source": [
    "вероятность равно отношению числа исходов, благоприятствующих событию, $ C_2^2 $ к общему числу исходов $ C_{100}^2 \\rightarrow $ "
   ]
  },
  {
   "cell_type": "code",
   "execution_count": 23,
   "metadata": {},
   "outputs": [
    {
     "name": "stdout",
     "output_type": "stream",
     "text": [
      "вероятность составляет 0.02%\n"
     ]
    }
   ],
   "source": [
    "p = combinations(2, 2) / combinations(100, 2)\n",
    "print('вероятность составляет {:.2%}'.format(p))"
   ]
  }
 ],
 "metadata": {
  "kernelspec": {
   "display_name": "Python 3",
   "language": "python",
   "name": "python3"
  },
  "language_info": {
   "codemirror_mode": {
    "name": "ipython",
    "version": 3
   },
   "file_extension": ".py",
   "mimetype": "text/x-python",
   "name": "python",
   "nbconvert_exporter": "python",
   "pygments_lexer": "ipython3",
   "version": "3.7.3"
  }
 },
 "nbformat": 4,
 "nbformat_minor": 2
}
