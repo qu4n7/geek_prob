{
 "cells": [
  {
   "cell_type": "markdown",
   "metadata": {
    "colab_type": "text",
    "id": "4H6xxKNJyZlv"
   },
   "source": [
    "## Урок 5"
   ]
  },
  {
   "cell_type": "markdown",
   "metadata": {
    "colab_type": "text",
    "id": "jNFmajYcyZlz"
   },
   "source": [
    "### Проверка статистических гипотез. P-значения. Доверительные интервалы.\n",
    "\n",
    "### A/B-тестирование"
   ]
  },
  {
   "cell_type": "markdown",
   "metadata": {
    "colab_type": "text",
    "id": "SwmtAkNvyZl4"
   },
   "source": [
    "**Статистическая гипотеза**  — гипотеза о распределении случайных величин, которое соответствует представлениям об изучаемом явлении в популяции."
   ]
  },
  {
   "cell_type": "markdown",
   "metadata": {
    "colab_type": "text",
    "id": "KjLnm1TVyZl6"
   },
   "source": [
    "Различают **нулевые** и **альтернативные** гипотезы. Нулевая гипотеза — это предположение о свойствах генеральной совокупности, которое кажется возможным, но требует проверки. \n",
    "\n",
    "Альтернативная гипотеза —это любая действительная гипотеза, которая не совпадает с нулевой."
   ]
  },
  {
   "cell_type": "markdown",
   "metadata": {
    "colab_type": "text",
    "id": "8fqrqfidyZl7"
   },
   "source": [
    "Нулевая гипотеза обозначается как $Н_0$, альтернативная — $Н_1$ (от Hypothesis — «гипотеза» (англ.)."
   ]
  },
  {
   "cell_type": "markdown",
   "metadata": {
    "colab_type": "text",
    "id": "32E2G4uwyZl-"
   },
   "source": [
    "Альтернативная гипотеза $H_1$ — это предположение о свойствах генеральной совокупности, которое принимают, когда невозможно принять нулевую гипотезу. Пока не будет доказано, что гипотеза $H_0$ — ложная, она считается истинной."
   ]
  },
  {
   "cell_type": "markdown",
   "metadata": {
    "colab_type": "text",
    "id": "_50xK-z8yZmA"
   },
   "source": [
    "Нулевая гипотеза складывается в результате теоретических изысканий или как итог предшествующих практических наблюдений.\n",
    "\n",
    "Например, нулевая гипотеза может утверждать, что средний рост людей из определенной популяции составляет 172.5 см.\n",
    "\n",
    "В дальнейшем при измерении роста людей в выборке из данной популяции эмпирические результаты могут показать, что средний рост равен другому значению — 171 см. На основании эмпирических данных можно выдвинуть альтернативную гипотезу, которая будет утверждать, что средний рост на самом деле не равен 172.5 см. Возможна другая формулировка: «Средний рост в данной популяции равен значению менее 172.5 см».\n",
    "\n",
    "При проверке альтернативной гипотезы для расчета критериев могут учитываться не только сравниваемые величины, но и, например:\n",
    "\n",
    "*   величина выборки — она часто используется для вычисления степеней свободы; \n",
    "*   или количество признаков, по которому происходит проверка гипотез — также может использоваться для вычисления степеней свободы.\n",
    "\n",
    "\n",
    "Задача исследователя в том, чтобы доказать, случайно ли отклонение результатов измерения — то есть является ли оно статистически значимым. Если отличия результатов измерения от значений, соответствующих нулевой гипотезе, случайны, нулевая гипотеза остается в силе. Если же результаты измерения значительно отличаются от того, что утверждается в нулевой гипотезе, то принимают альтернативную.\n"
   ]
  },
  {
   "cell_type": "markdown",
   "metadata": {
    "colab_type": "text",
    "id": "0EK0phISyZmC"
   },
   "source": [
    "Исследователь, получивший эмпирические результаты, отличающиеся от нулевой гипотезы, фактически оказывается заинтересован в том, чтобы альтернативная гипотеза подтвердилась. Если нулевая гипотеза отвергается и принимают альтернативную, то вследствие этого могут поменяться теоретические положения, ранее считавшиеся верными.\n",
    "\n",
    "Поэтому при проверке к отклонению нулевой гипотезы подходят с осторожностью — если принять неверную альтернативную гипотезу, это может привести в дальнейшем к неверным выводам и в других теоретических вопросах.\n",
    "\n",
    "При проверке гипотез не надо доказывать, что нулевая гипотеза верна, и приводить обоснования ее принятия. Требуется лишь определить, есть ли основания отвергнуть нулевую гипотезу."
   ]
  },
  {
   "cell_type": "markdown",
   "metadata": {
    "colab_type": "text",
    "id": "FRIHdoH6yZmF"
   },
   "source": [
    "Этапы проверки гипотез:\n",
    "\n",
    "1. Сформулировать основную и альтернативную гипотезы.\n",
    "\n",
    "2. Выбрать статистический критерий, по которому будет проводиться проверка.\n",
    "\n",
    "3. Задать уровень значимости $\\alpha$, или вероятность, с которой будет выполняться данная гипотеза.\n",
    "\n",
    "4. Определить границы области гипотезы.\n",
    "\n",
    "5. Подвести итоги и сформулировать вывод."
   ]
  },
  {
   "cell_type": "markdown",
   "metadata": {
    "colab_type": "text",
    "id": "X28vmsUkyZmH"
   },
   "source": [
    "Например, можно определить, изменились ли объемы продаж стирального порошка до телевизионной рекламной кампании и после нее. Когда ответ будет положительным,  сможем заключить, что изменения — результат рекламной кампании."
   ]
  },
  {
   "cell_type": "markdown",
   "metadata": {
    "colab_type": "text",
    "id": "DwBy43XSyZmI"
   },
   "source": [
    "#### Статистические критерии для проверки гипотез"
   ]
  },
  {
   "cell_type": "markdown",
   "metadata": {
    "colab_type": "text",
    "id": "zHkNQhERyZmL"
   },
   "source": [
    "Статистические критерии — это статистические характеристики выборки, рассчитанные на основе данных в ней. С помощью этих критериев принимается решение о том, какую гипотезу принять."
   ]
  },
  {
   "cell_type": "markdown",
   "metadata": {
    "colab_type": "text",
    "id": "lqpHLfsbyZmM"
   },
   "source": [
    "Существует два типа статистических критериев:\n",
    "\n",
    "\n",
    "— односторонний критерий — его значения находятся в области $(0, + ∞)$;\n",
    "\n",
    "\n",
    "— двухсторонний критерий — его значения находятся в области $(-∞; + ∞)$."
   ]
  },
  {
   "cell_type": "markdown",
   "metadata": {
    "colab_type": "text",
    "id": "UP8Uool4yZmP"
   },
   "source": [
    "Свойства статистического критерия:\n",
    "\n",
    "— статистический критерий является случайной величиной с известным законом распределения. Например, критерий согласия Пирсона подчиняется закону распределения $\\chi^2$ («хи-квадрат»);\n",
    "\n",
    "— чем ближе статистический критерий к нулю, тем вероятнее, что нулевая гипотеза верна."
   ]
  },
  {
   "cell_type": "markdown",
   "metadata": {
    "colab_type": "text",
    "id": "ZswJo12dyZmV"
   },
   "source": [
    "#### Уровень значимости"
   ]
  },
  {
   "cell_type": "markdown",
   "metadata": {
    "colab_type": "text",
    "id": "Uazj8YuRyZmX"
   },
   "source": [
    "Уровень значимости $\\alpha$ — это вероятность ошибки первого рода. Его значение обычно выбирает специалист, проверяющий гипотезу. "
   ]
  },
  {
   "cell_type": "markdown",
   "metadata": {
    "colab_type": "text",
    "id": "UYAapfXOyZmY"
   },
   "source": [
    "Чаще всего для $\\alpha$ выбирают значения 0.01 (1 %), 0.05 (5 %), 0.1 (10 %)."
   ]
  },
  {
   "cell_type": "markdown",
   "metadata": {
    "colab_type": "text",
    "id": "P4nnt9sbyZma"
   },
   "source": [
    "#### Ошибки первого и второго рода"
   ]
  },
  {
   "cell_type": "markdown",
   "metadata": {
    "colab_type": "text",
    "id": "RGdNt9ToyZmc"
   },
   "source": [
    "Всегда есть вероятность, что при проверке гипотезы будет сделан ошибочный вывод."
   ]
  },
  {
   "cell_type": "markdown",
   "metadata": {
    "colab_type": "text",
    "id": "oc-rQLdVyZmf"
   },
   "source": [
    "Есть два типа ошибок:\n",
    "\n",
    "***Ошибка 1-го рода*** — это отказ от нулевой гипотезы, несмотря на то, что она верна.\n",
    "\n",
    "***Ошибка 2-го рода*** — это принятие нулевой гипотезы, несмотря на то, что она неверна."
   ]
  },
  {
   "cell_type": "markdown",
   "metadata": {
    "colab_type": "text",
    "id": "2adv7v5zyZmi"
   },
   "source": [
    "Значение уровня значимости связано со значением доверительного уровня $p$. Уровень достоверности $p$ — вероятность правильной гипотезы. Пока не будет доказано, что нулевая гипотеза неверна, считаем ее верной."
   ]
  },
  {
   "cell_type": "markdown",
   "metadata": {
    "colab_type": "text",
    "id": "NCMpVab4yZmm"
   },
   "source": [
    "Уровень значимости $\\alpha$ будет определять вероятность принятия нулевой гипотезы. Если уровень значимости \n",
    "\n",
    "является вероятностью отклонения правильной гипотезы, то вероятность принятия правильной гипотезы равна:"
   ]
  },
  {
   "cell_type": "markdown",
   "metadata": {
    "colab_type": "text",
    "id": "6-vaMu27yZmq"
   },
   "source": [
    "$$p = 1 - α$$"
   ]
  },
  {
   "cell_type": "markdown",
   "metadata": {
    "colab_type": "text",
    "id": "4ehhGXbByZmt"
   },
   "source": [
    "Можно контролировать вероятность ошибки 1-го рода с помощью значения $\\alpha$, но при этом нет возможности контролировать ошибку 2-го рода — то есть вероятность принятия неверной нулевой гипотезы."
   ]
  },
  {
   "cell_type": "markdown",
   "metadata": {
    "colab_type": "text",
    "id": "ptWM8DElyZmy"
   },
   "source": [
    "**Нахождение границ области принятия гипотезы**"
   ]
  },
  {
   "cell_type": "markdown",
   "metadata": {
    "colab_type": "text",
    "collapsed": true,
    "id": "RTlaYqtxyZm2"
   },
   "source": [
    "Область принятия гипотез — это подмножество значений критериев, при которых нулевая гипотеза не может быть отклонена.\n",
    "\n",
    "Критическая область, в отличие от области принятия гипотез, это подмножество значений критерия, для которых нельзя принять нулевую гипотезу. При использовании одностороннего критерия в критической области содержатся не все, а только положительные его значения.\n",
    "\n",
    "В этом случае говорят, что у критерия есть только одна критическая область.\n",
    "\n",
    "Двусторонний критерий, в отличие от одностороннего, может содержать как положительные, так и отрицательные значения.\n",
    "\n",
    "У него две критические области: подмножество отрицательных и подмножество положительных значений критерия, для которых гипотеза не может быть принята."
   ]
  },
  {
   "cell_type": "markdown",
   "metadata": {
    "colab_type": "text",
    "collapsed": true,
    "id": "YWyCTUQGyZm5"
   },
   "source": [
    "Любая выборочная оценка обладает разбросом, так как является случайной величиной, зависящей от значений\n",
    "\n",
    "в конкретной выборке. Для более надежных статистических выводов следует знать не только точечную оценку,\n",
    "\n",
    "но и интервал, который с высокой вероятностью $\\gamma$ (гамма) накрывает оцениваемый показатель $\\theta$ (тета)."
   ]
  },
  {
   "cell_type": "markdown",
   "metadata": {
    "colab_type": "text",
    "collapsed": true,
    "id": "gr1GLULOyZm-"
   },
   "source": [
    "Формально — это два таких значения (статистики) $Т_1(X)$ и $Т_2(X)$, что $Т_1 < Т_2$, для которых при заданном \n",
    "\n",
    "уровне вероятности $\\gamma$ выполняется условие:"
   ]
  },
  {
   "cell_type": "markdown",
   "metadata": {
    "colab_type": "text",
    "collapsed": true,
    "id": "v-edAI4YyZnA"
   },
   "source": [
    "$$P_{\\theta} \\{T_1(X)< \\theta < T_2(X)\\} \\leqslant \\gamma$$"
   ]
  },
  {
   "cell_type": "markdown",
   "metadata": {
    "colab_type": "text",
    "id": "-JKGxO9kyZnB"
   },
   "source": [
    "То есть с вероятностью $\\gamma$ или выше истинный показатель находится между точками $Т_1(X)$ и $Т_2(X)$, которые \n",
    "\n",
    "называются нижней и верхней границей доверительного интервала."
   ]
  },
  {
   "cell_type": "markdown",
   "metadata": {
    "colab_type": "text",
    "collapsed": true,
    "id": "u_Ui3FhZyZnD"
   },
   "source": [
    "Одним из условий построения доверительных интервалов является их максимальная узость.\n",
    "То есть она должна быть как \n",
    "\n",
    "можно короче, потому что исследователь пытается точнее локализовать нахождение искомого параметра.\n",
    "\n",
    "Отсюда следует, что доверительный интервал должен охватывать максимальную вероятность распределения, и сама оценка \n",
    "\n",
    "будет центром."
   ]
  },
  {
   "cell_type": "code",
   "execution_count": 0,
   "metadata": {
    "colab": {
     "base_uri": "https://localhost:8080/",
     "height": 378
    },
    "colab_type": "code",
    "id": "zHFdEzohU_Lc",
    "outputId": "c6f8d49d-0bbc-4dad-9d71-594d526d0021"
   },
   "outputs": [
    {
     "data": {
      "image/png": "[encoded data removed]",
      "text/plain": [
       "<Figure size 864x432 with 1 Axes>"
      ]
     },
     "metadata": {
      "tags": []
     },
     "output_type": "display_data"
    }
   ],
   "source": [
    "\n",
    "import matplotlib.pyplot as plt\n",
    "import matplotlib.image as mpimg\n",
    "\n",
    "plt.figure(figsize=(12,6))\n",
    "img=mpimg.imread('5.1.png')\n",
    "plt.imshow(img)\n",
    "plt.show()"
   ]
  },
  {
   "cell_type": "markdown",
   "metadata": {
    "colab_type": "text",
    "id": "P7RJr5uAyZnK"
   },
   "source": [
    "То есть вероятность отклонения (истинный показатель от оценки) в большей части равна вероятности отклонения \n",
    "\n",
    "в меньшей стороне. \n",
    "\n",
    "Для асимметричных распределений интервал справа не равен интервалу слева.\n",
    "\n",
    "Чтобы рассчитать нижнюю и верхнюю границы, нужно знать точное распределение. Это поможет связать степень отклонения и\n",
    "\n",
    "вероятность покрытия оценочного показателя. На графике выше ясно показано: чем больше вероятность доверия, тем шире\n",
    "\n",
    "интервал."
   ]
  },
  {
   "cell_type": "markdown",
   "metadata": {
    "colab_type": "text",
    "id": "r-Wy5ouryZnM"
   },
   "source": [
    "**Доверительный интервал для математического ожидания**"
   ]
  },
  {
   "cell_type": "markdown",
   "metadata": {
    "colab_type": "text",
    "id": "_AHbpr6nyZnP"
   },
   "source": [
    "Если исходные данные распределены в соответствии с нормальным законом, среднее тоже будет распределено нормально. \n",
    "\n",
    "Поэтому для вычисления вероятностей мы могли бы использовать математический аппарат нормального закона распределения.\n",
    "\n",
    "Нужно знать два параметра: ожидаемое значение и дисперсию, которые обычно не известны. Вместо параметров можно \n",
    "\n",
    "использовать оценки (среднее арифметическое и выборочную дисперсию), но тогда распределение среднего будет не совсем нормальным."
   ]
  },
  {
   "cell_type": "markdown",
   "metadata": {
    "colab_type": "text",
    "id": "JRDZZ12YyZnR"
   },
   "source": [
    "Для таких задач можно использовать $t$-распределение. При заданной вероятности ($\\lambda$) нужно рассчитать предельное\n",
    "\n",
    "отклонение от средней арифметической по следующей формуле:"
   ]
  },
  {
   "cell_type": "markdown",
   "metadata": {
    "colab_type": "text",
    "id": "jdj-cZnoyZnT"
   },
   "source": [
    "$$T_{1,2} = \\overline{X} \\pm \\frac{s_0}{\\sqrt{n}} \\cdot c_{\\gamma}$$"
   ]
  },
  {
   "cell_type": "markdown",
   "metadata": {
    "colab_type": "text",
    "id": "9k46VofoyZnV"
   },
   "source": [
    "где $T_1$, $T_2$ — нижняя и верхняя границы доверительного интервала,\n",
    "\n",
    "$\\overline{X}$  — выборочное среднее арифметическое, $s_0$ — среднее квадратичное отклонение по выборке (несмещенное),\n",
    "\n",
    "$n$ — размер выборки,\n",
    "\n",
    "$\\gamma$ — доверительная вероятность."
   ]
  },
  {
   "cell_type": "markdown",
   "metadata": {
    "colab_type": "text",
    "id": "YULXkwzMyZnZ"
   },
   "source": [
    "$c_{\\gamma} = Ф^{-1} \\frac{(1 + \\gamma)}{2}$ — обратное значение функции стандартного нормального распределения."
   ]
  },
  {
   "cell_type": "markdown",
   "metadata": {
    "colab_type": "text",
    "id": "1TPeni0jyZnc"
   },
   "source": [
    "То есть это количество стандартных ошибок от среднего арифметического до нижней или верхней границы."
   ]
  },
  {
   "cell_type": "markdown",
   "metadata": {
    "colab_type": "text",
    "id": "97Xtvr-LyZnf"
   },
   "source": [
    "** A / В тестирование** "
   ]
  },
  {
   "cell_type": "markdown",
   "metadata": {
    "colab_type": "text",
    "id": "P_IflIWUyZng"
   },
   "source": [
    "А/В тестирование — маркетинговый метод, который используют для оценки эффективности веб-страниц и управления ими. \n",
    "\n",
    "Его еще называют сплит-тестированием (от англ. split testing)."
   ]
  },
  {
   "cell_type": "markdown",
   "metadata": {
    "colab_type": "text",
    "id": "LArKBHNlyZnj"
   },
   "source": [
    "Сплит-тестирование начинается с оценки показателей веб-страницы (контрольной страницы $A$) и поиска \n",
    "\n",
    "путей, как ее улучшить. "
   ]
  },
  {
   "cell_type": "markdown",
   "metadata": {
    "colab_type": "text",
    "id": "rxjyfqDGyZnk"
   },
   "source": [
    "Например, у нас есть интернет-магазин. Целевая страница этого магазина имеет коэффициент конверсии 2 %. \n",
    "\n",
    "Специалист хочет увеличить эту цифру до 4 %. Он предполагает, что изменение дизайна страницы повысит конверсию."
   ]
  },
  {
   "cell_type": "markdown",
   "metadata": {
    "colab_type": "text",
    "id": "qWycv6BOyZnr"
   },
   "source": [
    "К примеру, он думает, что следует изменить цвет кнопки с нейтрального синего на агрессивный красный — это сделает \n",
    "\n",
    "дизайн более ярким и приведет к повышению конверсии. "
   ]
  },
  {
   "cell_type": "markdown",
   "metadata": {
    "colab_type": "text",
    "id": "AFLqCxSkyZnv"
   },
   "source": [
    "Чтобы проверить, маркетолог создает новую версию веб-страницы ($B$)."
   ]
  },
  {
   "cell_type": "markdown",
   "metadata": {
    "colab_type": "text",
    "id": "2Zxr97pbyZny"
   },
   "source": [
    "Используя инструменты сплит-тестирования, специалист случайным образом делит трафик между страницами $А$ и $В$ на две\n",
    "\n",
    "приблизительно равные части. При этом одна половина посетителей попадает на страницу $A$, а вторая — на $B$."
   ]
  },
  {
   "cell_type": "markdown",
   "metadata": {
    "colab_type": "text",
    "id": "jtVgQzObyZn4"
   },
   "source": [
    "За **нулевую гипотезу** берется предположение, что конверсия на странице $В$ не отличается от конверсии на странице $A$."
   ]
  },
  {
   "cell_type": "markdown",
   "metadata": {
    "colab_type": "text",
    "id": "10icXn68yZn8"
   },
   "source": [
    "Обратное утверждение берется за **альтернативную гипотезу**."
   ]
  },
  {
   "cell_type": "code",
   "execution_count": 0,
   "metadata": {
    "colab": {},
    "colab_type": "code",
    "id": "_3J4ZETMyZoA"
   },
   "outputs": [],
   "source": []
  }
 ],
 "metadata": {
  "colab": {
   "collapsed_sections": [],
   "name": "Матстат - Урок 5.ipynb",
   "provenance": [],
   "version": "0.3.2"
  },
  "kernelspec": {
   "display_name": "Python 3",
   "language": "python",
   "name": "python3"
  },
  "language_info": {
   "codemirror_mode": {
    "name": "ipython",
    "version": 3
   },
   "file_extension": ".py",
   "mimetype": "text/x-python",
   "name": "python",
   "nbconvert_exporter": "python",
   "pygments_lexer": "ipython3",
   "version": "3.7.3"
  }
 },
 "nbformat": 4,
 "nbformat_minor": 1
}
