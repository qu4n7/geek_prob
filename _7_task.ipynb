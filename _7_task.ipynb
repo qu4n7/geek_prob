{
 "cells": [
  {
   "cell_type": "code",
   "execution_count": 151,
   "metadata": {},
   "outputs": [],
   "source": [
    "import numpy as np\n",
    "import pandas as pandas\n",
    "import matplotlib.pyplot as plt"
   ]
  },
  {
   "cell_type": "markdown",
   "metadata": {},
   "source": [
    "### Задание 1\n",
    "\n",
    "Даны значения величины заработной платы заемщиков банка (zp) и значения их поведенческого кредитного скоринга (ks): zp = [35, 45, 190, 200, 40, 70, 54, 150, 120, 110], ks = [401, 574, 874, 919, 459, 739, 653, 902, 746, 832]. Используя математические операции, посчитать коэффициенты линейной регрессии, приняв за X заработную плату (то есть, zp - признак), а за y - значения скорингового балла (то есть, ks - целевая переменная). Произвести расчет как с использованием intercept, так и без."
   ]
  },
  {
   "cell_type": "code",
   "execution_count": 152,
   "metadata": {},
   "outputs": [],
   "source": [
    "zp = np.array([35, 45, 190, 200, 40, 70, 54, 150, 120, 110])\n",
    "ks = np.array([401, 574, 874, 919, 459, 739, 653, 902, 746, 832])"
   ]
  },
  {
   "cell_type": "markdown",
   "metadata": {},
   "source": [
    "визуализирую признак для лучшего понимания данных:"
   ]
  },
  {
   "cell_type": "code",
   "execution_count": 153,
   "metadata": {},
   "outputs": [
    {
     "data": {
      "image/png": "[encoded data removed]",
      "text/plain": [
       "<Figure size 432x288 with 1 Axes>"
      ]
     },
     "metadata": {
      "needs_background": "light"
     },
     "output_type": "display_data"
    }
   ],
   "source": [
    "plt.scatter(zp, ks);"
   ]
  },
  {
   "cell_type": "markdown",
   "metadata": {},
   "source": [
    "##### вариант расчета через формулы (с интерспетом и без)"
   ]
  },
  {
   "cell_type": "markdown",
   "metadata": {},
   "source": [
    "считаю коэффициенты регрессии ks = a + b*zp через формулы:"
   ]
  },
  {
   "cell_type": "code",
   "execution_count": 154,
   "metadata": {},
   "outputs": [
    {
     "data": {
      "text/plain": [
       "2.620538882402765"
      ]
     },
     "execution_count": 154,
     "metadata": {},
     "output_type": "execute_result"
    }
   ],
   "source": [
    "b = (np.mean(zp*ks) - np.mean(zp)*np.mean(ks)) / (np.mean(zp**2) - np.mean(zp)**2)\n",
    "b"
   ]
  },
  {
   "cell_type": "code",
   "execution_count": 155,
   "metadata": {},
   "outputs": [],
   "source": [
    "a = 0"
   ]
  },
  {
   "cell_type": "code",
   "execution_count": 156,
   "metadata": {},
   "outputs": [
    {
     "data": {
      "text/plain": [
       "444.1773573243596"
      ]
     },
     "execution_count": 156,
     "metadata": {},
     "output_type": "execute_result"
    }
   ],
   "source": [
    "a = np.mean(ks) - b * np.mean(zp)\n",
    "a"
   ]
  },
  {
   "cell_type": "markdown",
   "metadata": {},
   "source": [
    "следовательно, прогнозные значение скоринга для заданного вектора з /п составит:"
   ]
  },
  {
   "cell_type": "code",
   "execution_count": 157,
   "metadata": {},
   "outputs": [
    {
     "data": {
      "text/plain": [
       "array([535.89621821, 562.10160703, 942.07974498, 968.2851338 ,\n",
       "       548.99891262, 627.61507909, 585.68645697, 837.25818968,\n",
       "       758.64202321, 732.43663439])"
      ]
     },
     "execution_count": 157,
     "metadata": {},
     "output_type": "execute_result"
    }
   ],
   "source": [
    "ks_pred = a + b * zp\n",
    "ks_pred"
   ]
  },
  {
   "cell_type": "markdown",
   "metadata": {},
   "source": [
    "визуализирую найденные коэффициенты через прямую линейной регрессии: "
   ]
  },
  {
   "cell_type": "code",
   "execution_count": 158,
   "metadata": {},
   "outputs": [
    {
     "data": {
      "image/png": "[encoded data removed]",
      "text/plain": [
       "<Figure size 432x288 with 1 Axes>"
      ]
     },
     "metadata": {
      "needs_background": "light"
     },
     "output_type": "display_data"
    }
   ],
   "source": [
    "plt.scatter(zp, ks);\n",
    "plt.plot(zp, ks_pred);"
   ]
  },
  {
   "cell_type": "markdown",
   "metadata": {},
   "source": [
    "считаю среднеквадратическую ошибку:"
   ]
  },
  {
   "cell_type": "code",
   "execution_count": 159,
   "metadata": {},
   "outputs": [
    {
     "data": {
      "text/plain": [
       "6470.414201176658"
      ]
     },
     "execution_count": 159,
     "metadata": {},
     "output_type": "execute_result"
    }
   ],
   "source": [
    "def mse(y, y_pred):\n",
    "    err = np.sum((y - y_pred)**2) / len(y)\n",
    "    return err\n",
    "mse(ks, ks_pred)"
   ]
  },
  {
   "cell_type": "markdown",
   "metadata": {},
   "source": [
    "для варианта без интерспета приравняю коэф a к 0:"
   ]
  },
  {
   "cell_type": "code",
   "execution_count": 160,
   "metadata": {},
   "outputs": [
    {
     "data": {
      "text/plain": [
       "array([ 91.71886088, 117.92424971, 497.90238766, 524.10777648,\n",
       "       104.8215553 , 183.43772177, 141.50909965, 393.08083236,\n",
       "       314.46466589, 288.25927706])"
      ]
     },
     "execution_count": 160,
     "metadata": {},
     "output_type": "execute_result"
    }
   ],
   "source": [
    "ks_pred = 0 + b * zp\n",
    "ks_pred"
   ]
  },
  {
   "cell_type": "code",
   "execution_count": 161,
   "metadata": {},
   "outputs": [
    {
     "data": {
      "image/png": "[encoded data removed]",
      "text/plain": [
       "<Figure size 432x288 with 1 Axes>"
      ]
     },
     "metadata": {
      "needs_background": "light"
     },
     "output_type": "display_data"
    }
   ],
   "source": [
    "plt.scatter(zp, ks);\n",
    "plt.plot(zp, ks_pred);"
   ]
  },
  {
   "cell_type": "markdown",
   "metadata": {},
   "source": [
    "результат значительно хуже, проверю ошибку:"
   ]
  },
  {
   "cell_type": "code",
   "execution_count": 162,
   "metadata": {},
   "outputs": [
    {
     "data": {
      "text/plain": [
       "203763.93896082853"
      ]
     },
     "execution_count": 162,
     "metadata": {},
     "output_type": "execute_result"
    }
   ],
   "source": [
    "mse(ks, ks_pred)"
   ]
  },
  {
   "cell_type": "markdown",
   "metadata": {},
   "source": [
    "##### вариант расчета через СЛАУ вида  $W = (X \\cdot X^T)^{-1} \\cdot X \\cdot y^T$ (с интерспетом)"
   ]
  },
  {
   "cell_type": "markdown",
   "metadata": {},
   "source": [
    "определяю переменную при первом коэф как единицу и завожу ее в систему с второй переменной"
   ]
  },
  {
   "cell_type": "code",
   "execution_count": 163,
   "metadata": {},
   "outputs": [],
   "source": [
    "X = np.vstack((np.ones((1, 10)), zp))"
   ]
  },
  {
   "cell_type": "code",
   "execution_count": 164,
   "metadata": {},
   "outputs": [
    {
     "data": {
      "text/plain": [
       "array([444.17735732,   2.62053888])"
      ]
     },
     "execution_count": 164,
     "metadata": {},
     "output_type": "execute_result"
    }
   ],
   "source": [
    "W = np.dot(np.dot(np.linalg.inv(np.dot(X, X.T)), X), ks.T)\n",
    "W"
   ]
  },
  {
   "cell_type": "markdown",
   "metadata": {},
   "source": [
    "результат аналогичен расчету через формулу коэффициентов\n",
    "\n",
    "думал, как получить без интерсепта - обнул переменную при интерсепте, не находится обратная матрица, подскажите, пжл, что надо сделать?"
   ]
  },
  {
   "cell_type": "markdown",
   "metadata": {},
   "source": [
    "### Задание 2\n",
    "Посчитать коэффициент линейной регрессии при заработной плате (zp), используя градиентный спуск (без intercept)."
   ]
  },
  {
   "cell_type": "markdown",
   "metadata": {},
   "source": [
    "найдем производныую функции $f = \\frac{\\sum{w_1*X - y}^2}{n}$ \n",
    "\n",
    "по $w_1$ : \n",
    "\n",
    "$f = \\frac{1}{n} \\sum{2*(w_1*X - y) * X}  =  \\frac{2}{n} \\sum{(w_1*X - y) * X}  $ "
   ]
  },
  {
   "cell_type": "markdown",
   "metadata": {},
   "source": [
    "зададим скорость градиентного спуска:"
   ]
  },
  {
   "cell_type": "code",
   "execution_count": 165,
   "metadata": {},
   "outputs": [],
   "source": [
    "alpha = 1e-7"
   ]
  },
  {
   "cell_type": "markdown",
   "metadata": {},
   "source": [
    "зададим произвольное значение веса, от которого начнем спуск:"
   ]
  },
  {
   "cell_type": "code",
   "execution_count": 166,
   "metadata": {},
   "outputs": [],
   "source": [
    "w1 = 0.01"
   ]
  },
  {
   "cell_type": "markdown",
   "metadata": {},
   "source": [
    "зададим ограничение на кол-во шагов градиентного спуска:"
   ]
  },
  {
   "cell_type": "code",
   "execution_count": 167,
   "metadata": {},
   "outputs": [],
   "source": [
    "itrs = 10000"
   ]
  },
  {
   "cell_type": "markdown",
   "metadata": {},
   "source": [
    "пропишем функцию и запустим градиентный спуск, в саму функцию запишу и расчет ошибки:"
   ]
  },
  {
   "cell_type": "code",
   "execution_count": 168,
   "metadata": {},
   "outputs": [],
   "source": [
    "def grad_dscn(alpha, w1, itrs, X, y):\n",
    "    for i in range(itrs):\n",
    "        y_pred = w1 * X\n",
    "        w1 -= alpha * (2/len(X)) * np.sum((y_pred - y) * X)\n",
    "        mse_ = np.sum((w1 * X - y)**2)/len(X)\n",
    "        if i%1000 ==0:\n",
    "            print('iteration: {i}, w1: {w1}, mse: {mse}'.format(i=i, w1=w1, mse=mse_))\n",
    "    "
   ]
  },
  {
   "cell_type": "code",
   "execution_count": 169,
   "metadata": {},
   "outputs": [
    {
     "name": "stdout",
     "output_type": "stream",
     "text": [
      "iteration: 0, w1: 0.0262007868, mse: 530184.4046127194\n",
      "iteration: 1000, w1: 5.518375906423665, mse: 58417.630063043674\n",
      "iteration: 2000, w1: 5.866290410447163, mse: 56524.48598675374\n",
      "iteration: 3000, w1: 5.888329857382757, mse: 56516.88902425671\n",
      "iteration: 4000, w1: 5.889725996996393, mse: 56516.85853854784\n",
      "iteration: 5000, w1: 5.889814438681274, mse: 56516.8584162123\n",
      "iteration: 6000, w1: 5.889820041223851, mse: 56516.85841572138\n",
      "iteration: 7000, w1: 5.889820396129836, mse: 56516.85841571943\n",
      "iteration: 8000, w1: 5.889820418612173, mse: 56516.85841571941\n",
      "iteration: 9000, w1: 5.88982042003637, mse: 56516.85841571943\n"
     ]
    }
   ],
   "source": [
    "grad_dscn(alpha, w1, itrs, X[1], ks)"
   ]
  },
  {
   "cell_type": "code",
   "execution_count": 170,
   "metadata": {},
   "outputs": [],
   "source": [
    "w1 =  5.889796417355146\n",
    "ks_pred = w1 * zp"
   ]
  },
  {
   "cell_type": "code",
   "execution_count": 171,
   "metadata": {},
   "outputs": [
    {
     "data": {
      "image/png": "[encoded data removed]",
      "text/plain": [
       "<Figure size 432x288 with 1 Axes>"
      ]
     },
     "metadata": {
      "needs_background": "light"
     },
     "output_type": "display_data"
    }
   ],
   "source": [
    "plt.scatter(zp, ks);\n",
    "plt.plot(zp, ks_pred);"
   ]
  },
  {
   "cell_type": "markdown",
   "metadata": {},
   "source": [
    "транспонирую матрицы"
   ]
  },
  {
   "cell_type": "code",
   "execution_count": 172,
   "metadata": {},
   "outputs": [],
   "source": [
    "def mse(y, y_pred):\n",
    "    err = np.sum((y - y_pred)**2) / len(y)\n",
    "    return err"
   ]
  },
  {
   "cell_type": "markdown",
   "metadata": {},
   "source": [
    "### Задание 3\n",
    "В каких случаях для вычисления доверительных интервалов и проверки статистических гипотез используется таблица значений функции Лапласа, а в каких - таблица критических точек распределения Стьюдента?"
   ]
  },
  {
   "cell_type": "markdown",
   "metadata": {},
   "source": [
    "Лапласса - если известно стандартное отклонение, если неизвестно - Стьюдента"
   ]
  },
  {
   "cell_type": "markdown",
   "metadata": {},
   "source": [
    "### Задание 4\n",
    "Произвести вычисления как в пункте 2, но с вычислением intercept. Учесть, что изменение коэффициентов должно производиться\n",
    "на каждом шаге одновременно (то есть изменение одного коэффициента не должно влиять на изменение другого во время одной итерации)."
   ]
  },
  {
   "cell_type": "markdown",
   "metadata": {},
   "source": [
    "дополню функцию расчета свободного коэф, я так понял, все сводится просто к тому, чтобы провести расчет и того и другого в пределах одной итерации:"
   ]
  },
  {
   "cell_type": "code",
   "execution_count": 173,
   "metadata": {},
   "outputs": [],
   "source": [
    "def grad_dscn_full(alpha, w0, w1, itrs, X, y):\n",
    "    for i in range(itrs):\n",
    "        y_pred = w0 + w1 * X\n",
    "        w1 -= alpha * (2/len(X)) * np.sum((y_pred - y) * X)\n",
    "        w0 -= alpha * np.sum(y_pred-y)\n",
    "        mse_ = np.sum(((w0 + w1 * X) - y)**2)/len(X)\n",
    "        if i%10000 ==0:\n",
    "            print('iteration: {i}, w0: {w0}, w1: {w1}, mse: {mse}'.format(i=i, w0=w0, w1=w1, mse=mse_))"
   ]
  },
  {
   "cell_type": "markdown",
   "metadata": {},
   "source": [
    "параметры я немного поднял, ибо долго считалось"
   ]
  },
  {
   "cell_type": "code",
   "execution_count": 174,
   "metadata": {},
   "outputs": [],
   "source": [
    "w0=0.1\n",
    "w1=10\n",
    "alpha=1e-5\n",
    "itrs = 300000"
   ]
  },
  {
   "cell_type": "code",
   "execution_count": 175,
   "metadata": {},
   "outputs": [
    {
     "name": "stdout",
     "output_type": "stream",
     "text": [
      "iteration: 0, w0: 0.06958, w1: 8.8673112, mse: 178678.97562922697\n",
      "iteration: 10000, w0: 99.46355183492541, w1: 5.157971724570893, mse: 36612.80937175952\n",
      "iteration: 20000, w0: 176.67855317395345, w1: 4.589593327229011, mse: 24621.562085232283\n",
      "iteration: 30000, w0: 236.59759381503054, w1: 4.148530221624625, mse: 17400.6726509231\n",
      "iteration: 40000, w0: 283.0949242441705, w1: 3.806264111520546, mse: 13052.397365073193\n",
      "iteration: 50000, w0: 319.17697285351335, w1: 3.540664725316503, mse: 10433.952901473534\n",
      "iteration: 60000, w0: 347.176735847022, w1: 3.3345589150436097, mse: 8857.177983090103\n",
      "iteration: 70000, w0: 368.9046243098142, w1: 3.1746202734850697, mse: 7907.675643893703\n",
      "iteration: 80000, w0: 385.76552192387624, w1: 3.0505074741917246, mse: 7335.9043139287705\n",
      "iteration: 90000, w0: 398.8496220580717, w1: 2.954195621106567, mse: 6991.5950476172675\n",
      "iteration: 100000, w0: 409.0029175848134, w1: 2.8794573741448195, mse: 6784.258889514915\n",
      "iteration: 110000, w0: 416.8819011599924, w1: 2.8214603013029684, mse: 6659.405199350968\n",
      "iteration: 120000, w0: 422.9960127816292, w1: 2.776454422854336, mse: 6584.22080271589\n",
      "iteration: 130000, w0: 427.74057920509256, w1: 2.7415297448373046, mse: 6538.946261851661\n",
      "iteration: 140000, w0: 431.4223750144755, w1: 2.7144281044152714, mse: 6511.68283829298\n",
      "iteration: 150000, w0: 434.2794580800588, w1: 2.693397161389592, mse: 6495.265349568578\n",
      "iteration: 160000, w0: 436.4965619245572, w1: 2.677077095236338, mse: 6485.3790660123\n",
      "iteration: 170000, w0: 438.2170402391349, w1: 2.6644126817137956, mse: 6479.425743662239\n",
      "iteration: 180000, w0: 439.55213585870996, w1: 2.6545850640825996, mse: 6475.840771938327\n",
      "iteration: 190000, w0: 440.58817351074487, w1: 2.646958807396235, mse: 6473.681973622774\n",
      "iteration: 200000, w0: 441.39214140689853, w1: 2.6410408124936144, mse: 6472.3819884273125\n",
      "iteration: 210000, w0: 442.01602257257963, w1: 2.6364484331511004, mse: 6471.599163326784\n",
      "iteration: 220000, w0: 442.5001559698906, w1: 2.6328847349099376, mse: 6471.12776169838\n",
      "iteration: 230000, w0: 442.8758447376986, w1: 2.6301192958625617, mse: 6470.843893060161\n",
      "iteration: 240000, w0: 443.1673801926789, w1: 2.6279733080130967, mse: 6470.672953040202\n",
      "iteration: 250000, w0: 443.39361245936846, w1: 2.6263080158944905, mse: 6470.570016376941\n",
      "iteration: 260000, w0: 443.5691692831333, w1: 2.6250157449056477, mse: 6470.508029975826\n",
      "iteration: 270000, w0: 443.70540183219424, w1: 2.624012939277748, mse: 6470.470703004062\n",
      "iteration: 280000, w0: 443.8111186424238, w1: 2.623234759518266, mse: 6470.44822544776\n",
      "iteration: 290000, w0: 443.8931551604464, w1: 2.622630890013266, mse: 6470.434689912638\n"
     ]
    }
   ],
   "source": [
    "grad_dscn_full(alpha, w0, w1, itrs, X[1], ks)"
   ]
  },
  {
   "cell_type": "code",
   "execution_count": 176,
   "metadata": {
    "scrolled": true
   },
   "outputs": [
    {
     "data": {
      "text/plain": [
       "444.1773573243596"
      ]
     },
     "execution_count": 176,
     "metadata": {},
     "output_type": "execute_result"
    }
   ],
   "source": [
    "a"
   ]
  },
  {
   "cell_type": "code",
   "execution_count": 177,
   "metadata": {},
   "outputs": [
    {
     "data": {
      "text/plain": [
       "2.620538882402765"
      ]
     },
     "execution_count": 177,
     "metadata": {},
     "output_type": "execute_result"
    }
   ],
   "source": [
    "b"
   ]
  },
  {
   "cell_type": "markdown",
   "metadata": {},
   "source": [
    "ну и аналогично расчету по коэффициентов по формуле."
   ]
  },
  {
   "cell_type": "code",
   "execution_count": null,
   "metadata": {},
   "outputs": [],
   "source": []
  }
 ],
 "metadata": {
  "kernelspec": {
   "display_name": "Python 3",
   "language": "python",
   "name": "python3"
  },
  "language_info": {
   "codemirror_mode": {
    "name": "ipython",
    "version": 3
   },
   "file_extension": ".py",
   "mimetype": "text/x-python",
   "name": "python",
   "nbconvert_exporter": "python",
   "pygments_lexer": "ipython3",
   "version": "3.7.3"
  }
 },
 "nbformat": 4,
 "nbformat_minor": 2
}
